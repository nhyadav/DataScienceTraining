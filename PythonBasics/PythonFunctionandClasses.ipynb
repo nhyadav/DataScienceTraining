{
 "cells": [
  {
   "cell_type": "code",
   "execution_count": 2,
   "metadata": {},
   "outputs": [
    {
     "data": {
      "text/plain": [
       "'\\nthere are two type of the function.\\n1. in-built functions: \\n    Ex: abs, sqrt(), insert, index, map etc.\\n2. user-define:\\n    Example: def function_name:\\n    keyword- def\\n        ...\\n'"
      ]
     },
     "execution_count": 2,
     "metadata": {},
     "output_type": "execute_result"
    }
   ],
   "source": [
    "#function and class (oops)\n",
    "\"\"\"\n",
    "there are two type of the function.\n",
    "1. in-built functions: \n",
    "    Ex: abs, sqrt(), insert, index, map etc.\n",
    "2. user-define:\n",
    "    Example: def function_name:\n",
    "    keyword- def\n",
    "        ...\n",
    "\"\"\""
   ]
  },
  {
   "cell_type": "code",
   "execution_count": 3,
   "metadata": {},
   "outputs": [
    {
     "name": "stdout",
     "output_type": "stream",
     "text": [
      "3.0\n",
      "9.0\n",
      "20\n",
      "this is user-define function.\n",
      "this is user-define function.\n",
      "10 and hello is argument.\n",
      "7 and 8 is argument.\n"
     ]
    }
   ],
   "source": [
    "import math\n",
    "\n",
    "#in-built function\n",
    "\n",
    "print(math.sqrt(9)) \n",
    "print(math.pow(3,2)) \n",
    "print(abs(-20))\n",
    "\n",
    "\n",
    "#custom functions\n",
    "def user_define():\n",
    "    return \"this is user-define function.\"\n",
    "print(user_define())\n",
    "data = user_define()\n",
    "print(data)\n",
    "\n",
    "def argument_return_fuction(a,b):\n",
    "    return f\"{a} and {b} is argument.\" #return  value of the function\n",
    "    print(\"fhgfgvhg\")\n",
    "\n",
    "\n",
    "def argument_fuction(a,b):\n",
    "    print(f\"{a} and {b} is argument.\")   #return by default none\n",
    "\n",
    "argument_fuction(10,\"hello\")\n",
    "argument_return_fuction(5,6)\n",
    "res=argument_return_fuction(7,8)\n",
    "print(res)\n",
    "\n",
    "\n",
    "\n",
    "\n",
    "\n"
   ]
  },
  {
   "cell_type": "code",
   "execution_count": 4,
   "metadata": {},
   "outputs": [
    {
     "data": {
      "text/plain": [
       "'this is user-define function.'"
      ]
     },
     "execution_count": 4,
     "metadata": {},
     "output_type": "execute_result"
    }
   ],
   "source": [
    "data"
   ]
  },
  {
   "cell_type": "code",
   "execution_count": 5,
   "metadata": {},
   "outputs": [
    {
     "name": "stdout",
     "output_type": "stream",
     "text": [
      "3628800\n"
     ]
    }
   ],
   "source": [
    "#recurssion function\n",
    "# 5*4*3*2*1=120\n",
    "\n",
    "def find_fact(n):\n",
    "    if n<=1:\n",
    "        return 1\n",
    "    else:\n",
    "        return n*find_fact(n-1)\n",
    "    \n",
    "print(find_fact(10))"
   ]
  },
  {
   "cell_type": "code",
   "execution_count": 6,
   "metadata": {},
   "outputs": [],
   "source": [
    "def finte_to_infinite():\n",
    "    print(\"recuression\")\n",
    "    finte_to_infinite()"
   ]
  },
  {
   "cell_type": "code",
   "execution_count": 9,
   "metadata": {},
   "outputs": [
    {
     "ename": "",
     "evalue": "",
     "output_type": "error",
     "traceback": [
      "\u001b[1;31mThe Kernel crashed while executing code in the current cell or a previous cell. \n",
      "\u001b[1;31mPlease review the code in the cell(s) to identify a possible cause of the failure. \n",
      "\u001b[1;31mClick <a href='https://aka.ms/vscodeJupyterKernelCrash'>here</a> for more info. \n",
      "\u001b[1;31mView Jupyter <a href='command:jupyter.viewOutput'>log</a> for further details."
     ]
    }
   ],
   "source": [
    "# finte_to_infinite()"
   ]
  },
  {
   "cell_type": "code",
   "execution_count": 8,
   "metadata": {},
   "outputs": [],
   "source": [
    "# Exrecise task for today\n",
    "# write the function to find the table for input number."
   ]
  },
  {
   "cell_type": "code",
   "execution_count": 16,
   "metadata": {},
   "outputs": [],
   "source": [
    "\n",
    "def deco_for_test(f):\n",
    "    def wrap():\n",
    "        print(\"Hello\")\n",
    "        f()\n",
    "    return wrap\n",
    "\n",
    "@deco_for_test\n",
    "def test():\n",
    "    print(\"this is test fuction\")"
   ]
  },
  {
   "cell_type": "code",
   "execution_count": 17,
   "metadata": {},
   "outputs": [
    {
     "name": "stdout",
     "output_type": "stream",
     "text": [
      "Hello\n",
      "this is test fuction\n"
     ]
    }
   ],
   "source": [
    "\n",
    "\n",
    "test()"
   ]
  },
  {
   "cell_type": "code",
   "execution_count": null,
   "metadata": {},
   "outputs": [],
   "source": []
  }
 ],
 "metadata": {
  "kernelspec": {
   "display_name": "Python 3",
   "language": "python",
   "name": "python3"
  },
  "language_info": {
   "codemirror_mode": {
    "name": "ipython",
    "version": 3
   },
   "file_extension": ".py",
   "mimetype": "text/x-python",
   "name": "python",
   "nbconvert_exporter": "python",
   "pygments_lexer": "ipython3",
   "version": "3.10.10"
  }
 },
 "nbformat": 4,
 "nbformat_minor": 2
}

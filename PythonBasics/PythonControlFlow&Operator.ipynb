{
 "cells": [
  {
   "cell_type": "code",
   "execution_count": 1,
   "metadata": {},
   "outputs": [],
   "source": [
    "## Python Control flow\n",
    "\n",
    "#1. if else\n",
    "#2. if elif else\n",
    "#3. for loop flow\n",
    "#4. while  loop\n",
    "#5. Swith/match Flow (only in above > 3.10)\n"
   ]
  },
  {
   "cell_type": "code",
   "execution_count": 5,
   "metadata": {},
   "outputs": [
    {
     "name": "stdout",
     "output_type": "stream",
     "text": [
      "20 is even number\n",
      "4 is the even number 20\n"
     ]
    }
   ],
   "source": [
    "#1. if else\n",
    "n = int(input(\"Enter the number\"))\n",
    "if n%2 == 0:\n",
    "    str_message = n,\"this is the even number\"\n",
    "    print(f\"{n} is even number\") # this is the new version\n",
    "    print(n,\" is the even number\")\n",
    "    print(\"{1} is the even number {0}\".format(n,4))\n",
    "else:\n",
    "    print(f\"{n} is odd number\")\n"
   ]
  },
  {
   "cell_type": "code",
   "execution_count": 8,
   "metadata": {},
   "outputs": [],
   "source": [
    "str_message = f\"{n} this is the even number\""
   ]
  },
  {
   "cell_type": "code",
   "execution_count": 9,
   "metadata": {},
   "outputs": [
    {
     "data": {
      "text/plain": [
       "'20 this is the even number'"
      ]
     },
     "execution_count": 9,
     "metadata": {},
     "output_type": "execute_result"
    }
   ],
   "source": [
    "str_message"
   ]
  },
  {
   "cell_type": "code",
   "execution_count": 14,
   "metadata": {},
   "outputs": [
    {
     "name": "stdout",
     "output_type": "stream",
     "text": [
      "Adult\n"
     ]
    }
   ],
   "source": [
    "## if elif else.\n",
    "n = input(\"Enter the number:\")\n",
    "## check the age group\n",
    "if int(n) < 18:\n",
    "    print(\"Under 18\")\n",
    "elif  18 <= int(n) <  60:\n",
    "    print(f\"Adult\")\n",
    "else:\n",
    "    print(\"Senior Citizen\")\n"
   ]
  },
  {
   "cell_type": "code",
   "execution_count": 17,
   "metadata": {},
   "outputs": [
    {
     "name": "stdout",
     "output_type": "stream",
     "text": [
      "0\n",
      "1\n",
      "2\n",
      "3\n",
      "4\n",
      "\n",
      "1\n",
      "2\n",
      "a\n",
      "b\n"
     ]
    }
   ],
   "source": [
    "## for loop flow\n",
    "for i in range(5):\n",
    "    print(i)\n",
    "print()\n",
    "for j in [1, 2, 'a', 'b']:\n",
    "    print(j)"
   ]
  },
  {
   "cell_type": "code",
   "execution_count": 19,
   "metadata": {},
   "outputs": [
    {
     "name": "stdout",
     "output_type": "stream",
     "text": [
      "1\n",
      "2\n",
      "3\n",
      "4\n",
      "5\n",
      "6\n",
      "7\n",
      "8\n",
      "9\n"
     ]
    }
   ],
   "source": [
    "i=1\n",
    "while 1:\n",
    "    print(i)\n",
    "    i+=1\n",
    "\n",
    "    if i==10:\n",
    "        break\n"
   ]
  },
  {
   "cell_type": "code",
   "execution_count": 21,
   "metadata": {},
   "outputs": [
    {
     "name": "stdout",
     "output_type": "stream",
     "text": [
      "Invalid input\n"
     ]
    }
   ],
   "source": [
    "### switch flow\n",
    "n = int(input(\"Enter the Weekend code:\"))\n",
    "match (n):\n",
    "    case 1: print (\"Monday\")\n",
    "    case 2: print(\"Tuesday\")\n",
    "    case 3: print(\"Wednesday\")\n",
    "    case 4: print(\"Thursday\")\n",
    "    case 5: print( \"Friday\")\n",
    "    case 6: print( \"Saturday\")\n",
    "    case 7: print (\"Sunday\") \n",
    "    case _ : print (\"Invalid input\")\n",
    "\n",
    "\n",
    "\"\"\"\n",
    "if n == 1:\n",
    "print(\"Sunday)\n",
    "elif n==2:\n",
    "print(\"monday)\n",
    "elif n==3:\n",
    "print(\"tuesday\")\n",
    "..\n",
    "..\n",
    "elif n==7:\n",
    "print(\"satruarday\")\n",
    "else:\n",
    "print)\"invalid  number\"\n",
    "\n",
    "\"\"\""
   ]
  },
  {
   "cell_type": "code",
   "execution_count": 22,
   "metadata": {},
   "outputs": [
    {
     "name": "stdout",
     "output_type": "stream",
     "text": [
      "13\n",
      "7\n",
      "30\n",
      "3.3333333333333335\n",
      "3\n",
      "1\n",
      "1000\n",
      "\n",
      "\n",
      "13\n",
      "10\n",
      "30\n",
      "10.0\n",
      "3.0\n",
      "0.0\n",
      "0.0\n"
     ]
    }
   ],
   "source": [
    "## Operator inthe Python\n",
    "## Arithmetic Operators\n",
    "x = 10\n",
    "y = 3\n",
    "\n",
    "print(x + y)  \n",
    "print(x - y)  \n",
    "print(x * y)  \n",
    "print(x / y) \n",
    "print(x // y)  \n",
    "print(x % y)  \n",
    "print(x ** y)  \n",
    "\n",
    "print()\n",
    "print()\n",
    "\n",
    "\n",
    "\n",
    "## Assignment Operators\n",
    "x += y  # Equivalent to x = x + y --- x = 10+3 -> 13\n",
    "print(x)  \n",
    "\n",
    "x -= y  # Equivalent to x = x - y ---x = 13-3 -> 10\n",
    "print(x)  \n",
    "\n",
    "x *= y  # Equivalent to x = x * y --->x =  10*3 -> 30\n",
    "print(x)  \n",
    "\n",
    "x /= y  # Equivalent to x = x / y --->x  = 10/3 -> 3.3333333333\n",
    "\n",
    "print(x)  \n",
    "\n",
    "x //= y  # Equivalent to x = x // y --->x= 10//3 -> 3\n",
    "print(x)  \n",
    "\n",
    "x %= y  # Equivalent to x = x % y ----x=3%3=0\n",
    "print(x)  \n",
    "\n",
    "x **= y  # Equivalent to x = x ** y  ---->x= 0**3 -> 0\n",
    "print(x)  "
   ]
  },
  {
   "cell_type": "code",
   "execution_count": 23,
   "metadata": {},
   "outputs": [
    {
     "name": "stdout",
     "output_type": "stream",
     "text": [
      "0.0\n"
     ]
    }
   ],
   "source": [
    "x %= y  # Equivalent to x = x % y\n",
    "print(x)"
   ]
  },
  {
   "cell_type": "code",
   "execution_count": 20,
   "metadata": {},
   "outputs": [
    {
     "name": "stdout",
     "output_type": "stream",
     "text": [
      "False\n",
      "True\n",
      "True\n",
      "False\n",
      "True\n",
      "False\n",
      "\n",
      "3\n",
      "10\n",
      "False\n"
     ]
    }
   ],
   "source": [
    "x = 10\n",
    "y = 3\n",
    "\n",
    "\n",
    "## Conparison operators\n",
    "print(x == y)\n",
    "print(x != y)  \n",
    "print(x > y) \n",
    "print(x < y)  \n",
    "print(x >= y)  \n",
    "print(x <= y)  \n",
    "print()\n",
    "\n",
    "## logical Operators\n",
    "print(x and y)  ----->1010      0011\n",
    "print(x or y)  \n",
    "print(not x)  "
   ]
  },
  {
   "cell_type": "code",
   "execution_count": 21,
   "metadata": {},
   "outputs": [
    {
     "name": "stdout",
     "output_type": "stream",
     "text": [
      "False\n",
      "True\n"
     ]
    }
   ],
   "source": [
    "##Iidentity Operators\n",
    "x = 10\n",
    "y = 3\n",
    "\n",
    "print(x is y)  \n",
    "print(x is not y) "
   ]
  },
  {
   "cell_type": "code",
   "execution_count": 22,
   "metadata": {},
   "outputs": [
    {
     "name": "stdout",
     "output_type": "stream",
     "text": [
      "True\n",
      "True\n"
     ]
    }
   ],
   "source": [
    "## Membership Operators\n",
    "\n",
    "my_list = [1, 2, 3, 4, 5]\n",
    "print(3 in my_list)  \n",
    "print(6 not in my_list)  \n"
   ]
  },
  {
   "cell_type": "code",
   "execution_count": 23,
   "metadata": {},
   "outputs": [
    {
     "name": "stdout",
     "output_type": "stream",
     "text": [
      "2\n",
      "11\n",
      "9\n",
      "-11\n",
      "40\n",
      "2\n"
     ]
    }
   ],
   "source": [
    "##Bitwise Operators\n",
    "x = 10  # Binary: 1010->101000\n",
    "y = 3  # Binary: 0011 == 0010\n",
    "\n",
    "print(x & y)  # Output: 2 (Binary: 0010)\n",
    "print(x | y)  # Output: 11 (Binary: 1011)\n",
    "print(x ^ y)  # Output: 9 (Binary: 1001)\n",
    "print(~x)  # Output: -11 (Binary:1011)\n",
    "print(x << 2)  # Output: 40 (Binary: 101000)\n",
    "print(x >> 2)  # Output: 2 (Binary: 10)"
   ]
  },
  {
   "cell_type": "code",
   "execution_count": null,
   "metadata": {},
   "outputs": [],
   "source": []
  }
 ],
 "metadata": {
  "kernelspec": {
   "display_name": "Python 3",
   "language": "python",
   "name": "python3"
  },
  "language_info": {
   "codemirror_mode": {
    "name": "ipython",
    "version": 3
   },
   "file_extension": ".py",
   "mimetype": "text/x-python",
   "name": "python",
   "nbconvert_exporter": "python",
   "pygments_lexer": "ipython3",
   "version": "3.10.10"
  }
 },
 "nbformat": 4,
 "nbformat_minor": 2
}

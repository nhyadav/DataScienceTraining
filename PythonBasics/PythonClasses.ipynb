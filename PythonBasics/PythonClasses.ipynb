{
 "cells": [
  {
   "cell_type": "code",
   "execution_count": 10,
   "metadata": {},
   "outputs": [],
   "source": [
    "#https://realpython.com/python3-object-oriented-programming/\n",
    "\n",
    "#https://www.geeksforgeeks.org/python-oops-concepts/"
   ]
  },
  {
   "cell_type": "code",
   "execution_count": 2,
   "metadata": {},
   "outputs": [
    {
     "data": {
      "text/plain": [
       "'\\nObject-oriented programming (OOP) is a method of structuring a program by bundling related properties and behaviors into individual objects.\\n\\n\\nConceptually, objects are like the components of a system. Think of a program as a factory assembly line of sorts. At each step of the assembly line, a system component processes some material, ultimately transforming raw material into a finished product.\\n\\n\\nAn object contains data, like the raw or preprocessed materials at each step on an assembly line. In addition, the object contains behavior, like the action that each assembly line component performs.\\n\\n'"
      ]
     },
     "execution_count": 2,
     "metadata": {},
     "output_type": "execute_result"
    }
   ],
   "source": [
    "\"\"\"\n",
    "Object-oriented programming (OOP) is a method of structuring a program by bundling related properties and behaviors into individual objects.\n",
    "\n",
    "\n",
    "Conceptually, objects are like the components of a system. Think of a program as a factory assembly line of sorts. At each step of the assembly line, a system component processes some material, ultimately transforming raw material into a finished product.\n",
    "\n",
    "\n",
    "An object contains data, like the raw or preprocessed materials at each step on an assembly line. In addition, the object contains behavior, like the action that each assembly line component performs.\n",
    "\n",
    "\"\"\""
   ]
  },
  {
   "cell_type": "code",
   "execution_count": 19,
   "metadata": {},
   "outputs": [],
   "source": [
    "# define the class\n",
    "\n",
    "class  Animal:\n",
    "    ...\n",
    "\n",
    "\n",
    "## creating object of the class\n",
    "dog = Animal() \n",
    "##dog is an object adkbskjfknd animal is  a class.\n",
    "# print(dog.name)\n",
    "# print(dog.age)\n",
    "\n"
   ]
  },
  {
   "cell_type": "code",
   "execution_count": 36,
   "metadata": {},
   "outputs": [
    {
     "name": "stdout",
     "output_type": "stream",
     "text": [
      "Event Ignite has been stated at 02-03-2024  in Mumbai Technical\n"
     ]
    }
   ],
   "source": [
    "class College:\n",
    "    College_type = \"Technical\"\n",
    "    def __init__(self, date, place) -> None:\n",
    "        self.date = date\n",
    "        self.place = place\n",
    "\n",
    "    def event(self, name):\n",
    "        return f\"Event {name} has been stated at {self.date}  in {self.place} {self.College_type}\"\n",
    "\n",
    "\n",
    "patkar = College(\"02-03-2024\",\"Mumbai\")\n",
    "print(patkar.event(\"Ignite\"))"
   ]
  },
  {
   "cell_type": "code",
   "execution_count": 37,
   "metadata": {},
   "outputs": [],
   "source": [
    "#Inheritance\n",
    "\n",
    "class Parent:\n",
    "    hair_color = \"brown\"\n",
    "\n",
    "class Child(Parent):\n",
    "    hair_color = \"purple\""
   ]
  },
  {
   "cell_type": "code",
   "execution_count": 38,
   "metadata": {},
   "outputs": [
    {
     "data": {
      "text/plain": [
       "'purple'"
      ]
     },
     "execution_count": 38,
     "metadata": {},
     "output_type": "execute_result"
    }
   ],
   "source": [
    "c  = Child()\n",
    "c.hair_color"
   ]
  },
  {
   "cell_type": "code",
   "execution_count": 39,
   "metadata": {},
   "outputs": [],
   "source": [
    "# inheritance.py\n",
    "\n",
    "class Parent:\n",
    "    speaks = [\"English\"]\n",
    "\n",
    "class Child(Parent):\n",
    "    def __init__(self):\n",
    "        super().__init__()\n",
    "        self.speaks.append(\"German\")"
   ]
  },
  {
   "cell_type": "code",
   "execution_count": 40,
   "metadata": {},
   "outputs": [
    {
     "name": "stdout",
     "output_type": "stream",
     "text": [
      "['English', 'German']\n"
     ]
    }
   ],
   "source": [
    "c = Child()\n",
    "print(c.speaks)"
   ]
  },
  {
   "cell_type": "code",
   "execution_count": 11,
   "metadata": {},
   "outputs": [
    {
     "data": {
      "text/plain": [
       "'Single Inheritance\\n    Multilevel Inheritance\\n    Multiple Inheritance\\n    Hierarchical Inheritance\\n    Hybrid Inheritance\\n'"
      ]
     },
     "execution_count": 11,
     "metadata": {},
     "output_type": "execute_result"
    }
   ],
   "source": [
    "#Type of the Inheritance in the python\n",
    "\"\"\"Single Inheritance\n",
    "    Multilevel Inheritance\n",
    "    Multiple Inheritance\n",
    "    Hierarchical Inheritance\n",
    "    Hybrid Inheritance\n",
    "\"\"\"\n"
   ]
  },
  {
   "cell_type": "code",
   "execution_count": 13,
   "metadata": {},
   "outputs": [
    {
     "data": {
      "text/plain": [
       "'\"\\n**Polymorphism:**\\nPolymorphism in object-oriented programming allows objects to be treated as instances of their parent class, even when they are instances of a subclass. This concept enables a method or subclass to define its behaviors and attributes while retaining some functionality from its parent class. For example, different animals inheriting a \"Move\" class can move in various ways like crawling, leaping, walking, or swimming based on their physical features. Polymorphism ensures that objects can exhibit different behaviors at runtime based on their specific types\\n\\n**Encapsulation:**\\nEncapsulation is a fundamental concept in object-oriented programming that involves bundling data and methods that operate on the data within a single unit. It restricts direct access to variables and methods, preventing accidental modifications of data. In Python, encapsulation is achieved by using private methods or attributes with underscores as prefixes. By encapsulating data, only the object\\'s methods can change its variables, ensuring data integrity and preventing external modification. Encapsulation enhances modularity by binding data and code into a single unit, enforcing information hiding and protecting data from external access or modificationx'"
      ]
     },
     "execution_count": 13,
     "metadata": {},
     "output_type": "execute_result"
    }
   ],
   "source": [
    "\"\"\"\"\n",
    "**Polymorphism:**\n",
    "Polymorphism in object-oriented programming allows objects to be treated as instances of their parent class, even when they are instances of a subclass. This concept enables a method or subclass to define its behaviors and attributes while retaining some functionality from its parent class. For example, different animals inheriting a \"Move\" class can move in various ways like crawling, leaping, walking, or swimming based on their physical features. Polymorphism ensures that objects can exhibit different behaviors at runtime based on their specific types\n",
    "\n",
    "**Encapsulation:**\n",
    "Encapsulation is a fundamental concept in object-oriented programming that involves bundling data and methods that operate on the data within a single unit. It restricts direct access to variables and methods, preventing accidental modifications of data. In Python, encapsulation is achieved by using private methods or attributes with underscores as prefixes. By encapsulating data, only the object's methods can change its variables, ensuring data integrity and preventing external modification. Encapsulation enhances modularity by binding data and code into a single unit, enforcing information hiding and protecting data from external access or modificationx\"\"\""
   ]
  },
  {
   "cell_type": "code",
   "execution_count": null,
   "metadata": {},
   "outputs": [],
   "source": [
    "## Exersize for oops,\n",
    "## find the Abstraction and exvery oops example"
   ]
  }
 ],
 "metadata": {
  "kernelspec": {
   "display_name": "Python 3",
   "language": "python",
   "name": "python3"
  },
  "language_info": {
   "codemirror_mode": {
    "name": "ipython",
    "version": 3
   },
   "file_extension": ".py",
   "mimetype": "text/x-python",
   "name": "python",
   "nbconvert_exporter": "python",
   "pygments_lexer": "ipython3",
   "version": "3.10.10"
  }
 },
 "nbformat": 4,
 "nbformat_minor": 2
}

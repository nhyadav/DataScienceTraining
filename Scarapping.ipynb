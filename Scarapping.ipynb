{
  "nbformat": 4,
  "nbformat_minor": 0,
  "metadata": {
    "colab": {
      "provenance": []
    },
    "kernelspec": {
      "name": "python3",
      "display_name": "Python 3"
    },
    "language_info": {
      "name": "python"
    }
  },
  "cells": [
    {
      "cell_type": "markdown",
      "source": [
        "## DAYS 2 start scappig part"
      ],
      "metadata": {
        "id": "Q8lyzuHdFpCx"
      }
    },
    {
      "cell_type": "markdown",
      "source": [
        "**Beautiful Soup:** A Python library for pulling data out of HTML and XML files. It provides simple methods and Pythonic idioms for navigating, searching, and modifying parse trees.\n",
        "\n",
        "\n",
        "**Scrapy:** A fast, high-level web crawling and web scraping framework for Python. It allows you to extract data from websites and save it to various formats.\n",
        "\n",
        "\n",
        "**Selenium:** A web testing library that is often used for web scraping purposes, especially for websites that heavily use JavaScript for rendering content dynamically.\n",
        "\n",
        "\n",
        "**Requests-HTML:** A Python library for making HTTP requests and scraping web pages. It combines the ease of use of Python's requests module with the powerful features of the HTML parsing and rendering libraries like BeautifulSoup and PyQuery.\n",
        "\n",
        "\n",
        "**Lxml:** A high-performance library for parsing XML and HTML documents in Python. It's widely used for web scraping tasks, especially when dealing with large and complex HTML documents.\n",
        "\n"
      ],
      "metadata": {
        "id": "dM8OUIBQGaUV"
      }
    },
    {
      "cell_type": "code",
      "execution_count": null,
      "metadata": {
        "colab": {
          "base_uri": "https://localhost:8080/",
          "height": 36
        },
        "id": "5UuJDJTWFkcS",
        "outputId": "7e0773ce-5743-4583-ccd7-455448c6ea14"
      },
      "outputs": [
        {
          "output_type": "execute_result",
          "data": {
            "text/plain": [
              "'\\nscrapy\\nrequests,\\nbeautifulsoup\\nselenium\\nlxml\\n'"
            ],
            "application/vnd.google.colaboratory.intrinsic+json": {
              "type": "string"
            }
          },
          "metadata": {},
          "execution_count": 16
        }
      ],
      "source": [
        "### python library to start web scrapping\n",
        "\"\"\"\n",
        "scrapy\n",
        "requests,\n",
        "beautifulsoup\n",
        "selenium\n",
        "lxml\n",
        "\"\"\"\n",
        "# !pip install scrapy\n",
        "# !pip install bs4\n",
        "# !pip install requests\n",
        "# !pip install selenium"
      ]
    },
    {
      "cell_type": "code",
      "source": [
        "#scrapy example\n",
        "import scrapy\n",
        "\n",
        "class MySpider(scrapy.Spider):\n",
        "    name = \"webscrapper\"\n",
        "    start_urls = [\"https://www.python.org/\"]\n",
        "\n",
        "    def parse(self, response):\n",
        "        items = response.xpath(\"//div[@class='item']\")\n",
        "        for item in items:\n",
        "            title = item.xpath(\".//h3/text()\").get()\n",
        "            link = item.xpath(\".//a/@href\").get()\n",
        "            yield {\n",
        "                'title': title,\n",
        "                'link': link,\n",
        "            }\n",
        "# spider = MySpider()\n",
        "# spider.parse()"
      ],
      "metadata": {
        "id": "3mq2iSHPF5Vb"
      },
      "execution_count": null,
      "outputs": []
    },
    {
      "cell_type": "code",
      "source": [
        "#beautiful example\n",
        "from bs4 import BeautifulSoup\n",
        "import requests\n",
        "\n",
        "def scrape_example_page():\n",
        "    response = requests.get(\"https://cynoteck.com/\")\n",
        "    soup = BeautifulSoup(response.text, \"html.parser\")\n",
        "    print(\"raw html\",soup.text)\n",
        "    return soup\n",
        "\n",
        "\n",
        "soup_text = scrape_example_page()"
      ],
      "metadata": {
        "id": "g7UtntHhLIFn",
        "colab": {
          "base_uri": "https://localhost:8080/"
        },
        "outputId": "b12a5a09-b76c-4f26-c5f4-319221d26d11"
      },
      "execution_count": null,
      "outputs": [
        {
          "output_type": "stream",
          "name": "stdout",
          "text": [
            "raw html \n",
            "Cynoteck: CRM consulting, Salesforce, Software Development Company                             × JOIN US         Excellent    5 out of 5 |  +1 (415) 429-6641 |   Speak to our expert Get in Touch       CynoteckServicesBusiness ServicesCRM Consulting ServicesCRM Implementation ServicesDevelopment ServicesSupport and MaintenanceProduct DevelopmentEcommerce DevelopmentOffshore DevelopmentDigital Marketing ServicesIT Staff Augmentation ServicesTechnology SolutionsSalesforceSalesforce App CloudSalesforce AppExchange ApplicationsSalesforce Community CloudSalesforce Field Service Mobile AppSalesforce Health Cloud ServicesSalesforce Marketing CloudSalesforce Sales CloudSalesforce Service CloudSalesforce Managed ServicesSalesforce CPQ ImplementationSalesforce Einstein Implementation ServicesSalesforce Administration ServicesDynamics 365Business Central ServicesDynamics 365 SalesDynamics 365 Field ServiceDynamics 365 Human ResourcesDynamics 365 Project OperationsDynamics 365 Customer ServiceDynamics 365 MarketingMicrosoft Power Platform Consulting ServicesPower BIPower AppsPower AutomateVirtual AgentsWeb Development.NET DevelopmentJava Development ServicesPHP DevelopmentCMS DevelopmentCodeigniter Development ServicesVue js Development ServicesReact JS Development ServicesMobile DevelopmentAndroid app developmentiOS App DevelopmentHybrid App DevelopmentFlutter App DevelopmentCross Platform Mobile App Development Servicesmobile app maintenanceArtificial IntelligenceData Science ServicesIndustriesHealthcareReal EstateRetail and E-commerceServiceLegalManufacturingUtilityProductsKnowledge CenterBlogCase StudiesWhitepaperVideo GalleryAboutAbout UsLeadershipPartnersTestimonialsNewsAwardsCareerContact Us            ServicesBusiness ServicesCRM Consulting ServicesCRM Implementation ServicesDevelopment ServicesSupport and MaintenanceProduct DevelopmentEcommerce DevelopmentOffshore DevelopmentDigital Marketing ServicesIT Staff Augmentation ServicesTechnology SolutionsSalesforceSalesforce App CloudSalesforce AppExchange ApplicationsSalesforce Community CloudSalesforce Field Service Mobile AppSalesforce Health Cloud ServicesSalesforce Marketing CloudSalesforce Sales CloudSalesforce Service CloudSalesforce Managed ServicesSalesforce CPQ ImplementationSalesforce Einstein Implementation ServicesSalesforce Administration ServicesDynamics 365Business Central ServicesDynamics 365 SalesDynamics 365 Field ServiceDynamics 365 Human ResourcesDynamics 365 Project OperationsDynamics 365 Customer ServiceDynamics 365 MarketingMicrosoft Power Platform Consulting ServicesPower BIPower AppsPower AutomateVirtual AgentsWeb Development.NET DevelopmentJava Development ServicesPHP DevelopmentCMS DevelopmentCodeigniter Development ServicesVue js Development ServicesReact JS Development ServicesMobile DevelopmentAndroid app developmentiOS App DevelopmentHybrid App DevelopmentFlutter App DevelopmentCross Platform Mobile App Development Servicesmobile app maintenanceArtificial IntelligenceData Science ServicesIndustriesHealthcareReal EstateRetail and E-commerceServiceLegalManufacturingUtilityProductsKnowledge CenterBlogCase StudiesWhitepaperVideo GalleryAboutAbout UsLeadershipPartnersTestimonialsNewsAwardsCareerContact Us +1 (415) 429-6641      Awards & Recognitions Our team continuously raises the bar to delight our customers with world-class consulting and seamless execution. A fact well resonated with Clutch, a leading B2B rating and reviews firm, which has rated us as Top IT Services Provider and Top Salesforce Consultants in 2020. And the icing on the cake - a perfect 5 Star rating! Know More Partnerships Our demonstrated capability in delivering top-notch solutions gets even more pronounced with our strong alliances as Microsoft Gold Partner and Salesforce AppExchange Partner. Our partnerships equip us with unique insights, a competitive edge, and an ability to deliver newer capabilities swiftly. Know More Trusted Team Having delivered 200 projects and 20 products with 100,000+ person-hours, our team works with a shared mindset enabling us to tackle business complexities with ease. We thrive on newer challenges and enjoy an unquenching desire to evolve continuously.It means you can off-load the technical hullabaloo on us and focus on your core business area. Contact Us Salesforce, Dynamics 365 CRM Consultants    Domain Expertise From speaking invitations to prestigious events such as Dreamforce to penning down articles, whitepapers, books, and blogs - Cynoteck's leadership and delivery teams are well recognized as thought leaders by peers and industry. Know More  Cynoteck - Your Cloud & CRM  Consultants Our name Cynoteck - a blend of Cynosure, Technology, and Knowledge - is derived from our core philosophy and endeavor to create optimum business-focused solutions.   With our deep-rooted knowledge base, we help deliver world-class solutions to transform businesses using a perfect mix of Mobile, Cloud, CRM, and other emerging technologies.   Adept at realigning ourselves to an ever-evolving technology landscape, we can help you ascertain and recalibrate business processes to counter likely challenges of the future.What We Offer TECHNOLOGIES SERVICES   CRM Implement our industry-leading CRM services to close more deals, eliminate manual tasks, and create a customer experience that will lead to unprecedented top-line growth.    salesforce Our team of certified Salesforce experts helps you accelerate your business growth and boost ROI to bring revolutionary outcomes. We help get the most out of Salesforce investment!    microsoft dynamics 365 As a Microsoft Gold Partner, Cynoteck has been helping clients transform their business processes while improving customer loyalty with the help of intelligent business applications (ERP and CRM).    web development Cynoteck provides top-notch website development solutions for transforming and innovating businesses. Get comprehensive web development services from a team of qualified experts.    mobile app development We are a top mobile app development company that offers feature-rich and digitally transformational mobile application development services based on your needs, time, and budget.    microsoft power platform We help to streamline, enhance, and automate your business processes while unleashing the full potential of your data with the help of Microsoft Power Platform.    development services Each engagement with Cynoteck begins with a thorough discussion of your\n",
            "business and technological issues and objectives. We then create a plan that\n",
            "will direct our work, ensure success, and provide you with the best software\n",
            "development services possible.    product development To create scalable solutions, we utilize the right combination of\n",
            "technologies, data, and design. With our leading software product\n",
            "development solutions, we produce captivating products that offer an\n",
            "incredible user experience.    support and maintenance With the best software support services, we provide secure and stable\n",
            "software maintenance that focuses on important business concerns. Our tech\n",
            "professionals will provide you with the highest quality support and\n",
            "maintenance services in the shortest amount of time possible.    offshore development Cynoteck offers effective solutions that provide you with an edge over\n",
            "competitors in your market. We help clients from all over the world in\n",
            "maximizing the potential of technology and a skilled pool of developers to\n",
            "expand their business's capabilities at a reasonable price.    ecommerce development At Cynoteck, we offer specialized services for creating eCommerce websites\n",
            "that give your business a competitive edge. Our eCommerce consultants help\n",
            "brands and organizations in increasing their visibility and attract more\n",
            "interested site visitors.    IT staff augementation Utilize our IT staff augmentation services to have access to qualified IT\n",
            "specialists, such as qualified business analysts, software developers, Scrum\n",
            "Masters, and QA specialists. Our IT Staff Augmentation company helps you in\n",
            "getting the most out of your technological investments. Industries We Serve   Healthcare As a leading company among healthcare technology providers, we help you in developing metrics-driven healthcare software solutions. We have proven expertise and deep domain knowledge to build a fully compliant digital health ecosystem.    Real Estate We are the world's top provider of services and investments in commercial real estate. Our professionals conduct in-depth research to provide a fair deal to our customers and ensure an outstanding return on investment.    Retail and Ecommerce With a superior digital experience, expand your business. We, with our experience and knowledge, help our clients in joining the digital revolution and sync steps with the future of the retail industry.    Legal We offer consulting, technology, and services to law firms, providing practical ways to improve quality, efficiency, and business outcomes. Our legal professionals work with subject matter experts to provide insightful and tailored legal advice to each of our clients.    Manufacturing We help reduce your expenses and provide you with a competitive edge through our manufacturing services. Our cutting-edge manufacturing services help your products reach the market better, quicker, and more intelligently.    Utility Our utility services offer managed IT infrastructure services that are asset-based, industrialized, and outsourced. We help businesses in enabling transformation for added value and growth. Are you ready to expand globally?Cynoteck brings together the ultimate industry experts under one roof for all your development needs. Get Started → Get in Touch    +1-415-429-6641    052-681-7499    +91-0135-2608366What Clients Say  Alexander CastilloFounder – Requestky, LLCTeam Cynoteck is professional, efficient, and extremely helpful. They all are very proficient in CRM and have help guided our firm for the last year. Each of the team members at Cynoteck that we have interacted with are a real team player.  Mario ScheelIT Manager – HMH SystemThe Cynoteck team was always ready to help us with our Microsoft Navision/Business Central Projects. Their proactive approach and ability to handle and to guide us through complex tasks delighted us. I highly recommend Cynoteck as a long term Partner for consulting, development and support services. David WerthCEO – Ideas Design, IncThe Cynoteck team is meticulous, thorough & energetic. I was delighted with their innovative approach and use of technology. We have been working with Cynoteck for many years successfully. They are really fun to do business with. I highly recommend Cynoteck. Joseph AdamsAttorney & Shareholder, Adams & Pham APCWe are increasingly impressed by the great customer service and kindness. Their team built a custom SaaS solution. The project management is effective. Their technical expertise is strong.  View More TestimonialsOur Clients                Business Enquiry  Your Name   Your Email   Your Mobile   Your Topic TopicBusiness CentralDynamics 365Dynamics NAVMobile App DevelopmentMS Dynamics CRMSalesforceTextingUX DesignWeb ApplicationWindows ApplicationWeb DevelopmentEcommerceMicrosoft Power PlatformDigital MarketingSEO   Company   Your Message Why Choose Us ?           Microsoft Gold Partners           Appexchange Consulting Partners           Featured in India 500           160+ Released projects           150+ In-house developers           Complete needs analysis           Valuable expert suggestions Call Us  +1-415-429-6641  052-681-7499   0135-2608-366 Thanks for contacting us!We will be in touch with you shortly.   ×    KEEP IN TOUCHUS Office: 445 Minnesota Street, Suite 1500, Saint Paul Minnesota, 55101 +1 (415) 429-6641        Refer Us  Latest Posts The 10 Best CRM for SaaS in 2024: Boost Your Software Sales & Growth February 14, 2024 Mastering the Dynamics 365 Implementation: A Step-by-Step Guide February 7, 2024 Understanding Service-Oriented Architecture: Principles and Key Components January 31, 2024News Conquer Your Inbox Chaos with CTK Email Parser Webinar on February 27th February 22, 2024 Cynoteck Technology Solutions Spreads Happiness at Local Govt. Primary School and NGO December 19, 2023 Cynoteck Recognized as a Clutch Global Leader for 2023 November 20, 2023Quick LinksSalesforce DevelopmentSalesforce ConsultingSalesforce ImplementationSalesforce CustomizationSalesforce IntegrationSupport and MaintenanceWeb Application DevelopmentMobile App Development ServicesCareerPrivacy Policy US |  IND |  UAE© 2024 Cynoteck Technology Solutions. All Rights Reserved.                     Welcome to Cynoteck! We're thrilled to hear from you. How can we assist you today?  × Contact Us      TopicSalesforceDynamics 365Dynamics 365 Business CentralMobile AppWeb ApplicationOther  Website    I'm not a robot.          \n"
          ]
        }
      ]
    },
    {
      "cell_type": "code",
      "source": [
        "# extract the only contact number\n",
        "import re\n",
        "# pattern = r\"\\d{1,6}\\s(?:[\\w\\s\\d.,-]+,?\\s?)+[\\w\\s]+\\d{3,10}\"\n",
        "# phone_numbers = re.findall(pattern, soup_text)\n",
        "# print(\"Phone Numbers Found:\", phone_numbers)"
      ],
      "metadata": {
        "id": "mfPNXYngek3D"
      },
      "execution_count": null,
      "outputs": []
    },
    {
      "cell_type": "markdown",
      "source": [
        "##list of the class user to find address for company.\n",
        "\n",
        "1. contact-info\n"
      ],
      "metadata": {
        "id": "U1eTt0WaSpNN"
      }
    },
    {
      "cell_type": "code",
      "source": [
        "#find address with the class\n",
        "def extract_data(soup_text):\n",
        "  info = {}\n",
        "  #phone number\n",
        "  pattern = r\"\\d{1,6}\\s(?:[\\w\\s\\d.,-]+,?\\s?)+[\\w\\s]+\\d{3,10}\"\n",
        "  phone_numbers = re.findall(pattern, soup_text)\n",
        "  info['Phone Number'] = phone_numbers[0] if phone_numbers else None\n",
        "\n",
        "  #email details\n",
        "\n",
        "\n",
        "  #address details\n",
        "  address_class_list = ['contact-info',]\n",
        "  for address in address_class_list:\n",
        "    adress = soup_text.find(class_=\"contact-info\")\n",
        "    if address:\n",
        "      info['address'] = address or []\n",
        "      break\n",
        "  return info\n",
        "\n",
        "# addresses = soup_text.find_all(class_=\"contact-info\")\n"
      ],
      "metadata": {
        "id": "9NofL5VuTsj_"
      },
      "execution_count": null,
      "outputs": []
    },
    {
      "cell_type": "code",
      "source": [
        "address_detail = extract_data(soup_text)"
      ],
      "metadata": {
        "colab": {
          "base_uri": "https://localhost:8080/",
          "height": 287
        },
        "id": "6MN5h-M3X7DO",
        "outputId": "dde6bc4a-6416-42e6-f177-c5857f829186"
      },
      "execution_count": null,
      "outputs": [
        {
          "output_type": "error",
          "ename": "TypeError",
          "evalue": "expected string or bytes-like object",
          "traceback": [
            "\u001b[0;31m---------------------------------------------------------------------------\u001b[0m",
            "\u001b[0;31mTypeError\u001b[0m                                 Traceback (most recent call last)",
            "\u001b[0;32m<ipython-input-44-66ec4ed7f892>\u001b[0m in \u001b[0;36m<cell line: 1>\u001b[0;34m()\u001b[0m\n\u001b[0;32m----> 1\u001b[0;31m \u001b[0maddress_detail\u001b[0m \u001b[0;34m=\u001b[0m \u001b[0mextract_data\u001b[0m\u001b[0;34m(\u001b[0m\u001b[0msoup_text\u001b[0m\u001b[0;34m)\u001b[0m\u001b[0;34m\u001b[0m\u001b[0;34m\u001b[0m\u001b[0m\n\u001b[0m",
            "\u001b[0;32m<ipython-input-43-20d89af72288>\u001b[0m in \u001b[0;36mextract_data\u001b[0;34m(soup_text)\u001b[0m\n\u001b[1;32m      4\u001b[0m   \u001b[0;31m#phone number\u001b[0m\u001b[0;34m\u001b[0m\u001b[0;34m\u001b[0m\u001b[0m\n\u001b[1;32m      5\u001b[0m   \u001b[0mpattern\u001b[0m \u001b[0;34m=\u001b[0m \u001b[0;34mr\"\\d{1,6}\\s(?:[\\w\\s\\d.,-]+,?\\s?)+[\\w\\s]+\\d{3,10}\"\u001b[0m\u001b[0;34m\u001b[0m\u001b[0;34m\u001b[0m\u001b[0m\n\u001b[0;32m----> 6\u001b[0;31m   \u001b[0mphone_numbers\u001b[0m \u001b[0;34m=\u001b[0m \u001b[0mre\u001b[0m\u001b[0;34m.\u001b[0m\u001b[0mfindall\u001b[0m\u001b[0;34m(\u001b[0m\u001b[0mpattern\u001b[0m\u001b[0;34m,\u001b[0m \u001b[0msoup_text\u001b[0m\u001b[0;34m)\u001b[0m\u001b[0;34m\u001b[0m\u001b[0;34m\u001b[0m\u001b[0m\n\u001b[0m\u001b[1;32m      7\u001b[0m   \u001b[0minfo\u001b[0m\u001b[0;34m[\u001b[0m\u001b[0;34m'Phone Number'\u001b[0m\u001b[0;34m]\u001b[0m \u001b[0;34m=\u001b[0m \u001b[0mphone_numbers\u001b[0m\u001b[0;34m[\u001b[0m\u001b[0;36m0\u001b[0m\u001b[0;34m]\u001b[0m \u001b[0;32mif\u001b[0m \u001b[0mphone_numbers\u001b[0m \u001b[0;32melse\u001b[0m \u001b[0;32mNone\u001b[0m\u001b[0;34m\u001b[0m\u001b[0;34m\u001b[0m\u001b[0m\n\u001b[1;32m      8\u001b[0m \u001b[0;34m\u001b[0m\u001b[0m\n",
            "\u001b[0;32m/usr/lib/python3.10/re.py\u001b[0m in \u001b[0;36mfindall\u001b[0;34m(pattern, string, flags)\u001b[0m\n\u001b[1;32m    238\u001b[0m \u001b[0;34m\u001b[0m\u001b[0m\n\u001b[1;32m    239\u001b[0m     Empty matches are included in the result.\"\"\"\n\u001b[0;32m--> 240\u001b[0;31m     \u001b[0;32mreturn\u001b[0m \u001b[0m_compile\u001b[0m\u001b[0;34m(\u001b[0m\u001b[0mpattern\u001b[0m\u001b[0;34m,\u001b[0m \u001b[0mflags\u001b[0m\u001b[0;34m)\u001b[0m\u001b[0;34m.\u001b[0m\u001b[0mfindall\u001b[0m\u001b[0;34m(\u001b[0m\u001b[0mstring\u001b[0m\u001b[0;34m)\u001b[0m\u001b[0;34m\u001b[0m\u001b[0;34m\u001b[0m\u001b[0m\n\u001b[0m\u001b[1;32m    241\u001b[0m \u001b[0;34m\u001b[0m\u001b[0m\n\u001b[1;32m    242\u001b[0m \u001b[0;32mdef\u001b[0m \u001b[0mfinditer\u001b[0m\u001b[0;34m(\u001b[0m\u001b[0mpattern\u001b[0m\u001b[0;34m,\u001b[0m \u001b[0mstring\u001b[0m\u001b[0;34m,\u001b[0m \u001b[0mflags\u001b[0m\u001b[0;34m=\u001b[0m\u001b[0;36m0\u001b[0m\u001b[0;34m)\u001b[0m\u001b[0;34m:\u001b[0m\u001b[0;34m\u001b[0m\u001b[0;34m\u001b[0m\u001b[0m\n",
            "\u001b[0;31mTypeError\u001b[0m: expected string or bytes-like object"
          ]
        }
      ]
    },
    {
      "cell_type": "code",
      "source": [
        "d = {'a':'a,b,c','d':'1,2,3'}\n",
        "import pandas as pd"
      ],
      "metadata": {
        "id": "7RMpB_ABnNg8"
      },
      "execution_count": null,
      "outputs": []
    },
    {
      "cell_type": "code",
      "source": [
        "pd.DataFrame([d])"
      ],
      "metadata": {
        "colab": {
          "base_uri": "https://localhost:8080/",
          "height": 81
        },
        "id": "0HjTnKTsnWps",
        "outputId": "a5cd7b2c-0171-41b5-e2e6-dbae02436219"
      },
      "execution_count": null,
      "outputs": [
        {
          "output_type": "execute_result",
          "data": {
            "text/plain": [
              "       a      d\n",
              "0  a,b,c  1,2,3"
            ],
            "text/html": [
              "\n",
              "  <div id=\"df-e9f09e62-631f-4c85-bddf-b079f8b006f6\" class=\"colab-df-container\">\n",
              "    <div>\n",
              "<style scoped>\n",
              "    .dataframe tbody tr th:only-of-type {\n",
              "        vertical-align: middle;\n",
              "    }\n",
              "\n",
              "    .dataframe tbody tr th {\n",
              "        vertical-align: top;\n",
              "    }\n",
              "\n",
              "    .dataframe thead th {\n",
              "        text-align: right;\n",
              "    }\n",
              "</style>\n",
              "<table border=\"1\" class=\"dataframe\">\n",
              "  <thead>\n",
              "    <tr style=\"text-align: right;\">\n",
              "      <th></th>\n",
              "      <th>a</th>\n",
              "      <th>d</th>\n",
              "    </tr>\n",
              "  </thead>\n",
              "  <tbody>\n",
              "    <tr>\n",
              "      <th>0</th>\n",
              "      <td>a,b,c</td>\n",
              "      <td>1,2,3</td>\n",
              "    </tr>\n",
              "  </tbody>\n",
              "</table>\n",
              "</div>\n",
              "    <div class=\"colab-df-buttons\">\n",
              "\n",
              "  <div class=\"colab-df-container\">\n",
              "    <button class=\"colab-df-convert\" onclick=\"convertToInteractive('df-e9f09e62-631f-4c85-bddf-b079f8b006f6')\"\n",
              "            title=\"Convert this dataframe to an interactive table.\"\n",
              "            style=\"display:none;\">\n",
              "\n",
              "  <svg xmlns=\"http://www.w3.org/2000/svg\" height=\"24px\" viewBox=\"0 -960 960 960\">\n",
              "    <path d=\"M120-120v-720h720v720H120Zm60-500h600v-160H180v160Zm220 220h160v-160H400v160Zm0 220h160v-160H400v160ZM180-400h160v-160H180v160Zm440 0h160v-160H620v160ZM180-180h160v-160H180v160Zm440 0h160v-160H620v160Z\"/>\n",
              "  </svg>\n",
              "    </button>\n",
              "\n",
              "  <style>\n",
              "    .colab-df-container {\n",
              "      display:flex;\n",
              "      gap: 12px;\n",
              "    }\n",
              "\n",
              "    .colab-df-convert {\n",
              "      background-color: #E8F0FE;\n",
              "      border: none;\n",
              "      border-radius: 50%;\n",
              "      cursor: pointer;\n",
              "      display: none;\n",
              "      fill: #1967D2;\n",
              "      height: 32px;\n",
              "      padding: 0 0 0 0;\n",
              "      width: 32px;\n",
              "    }\n",
              "\n",
              "    .colab-df-convert:hover {\n",
              "      background-color: #E2EBFA;\n",
              "      box-shadow: 0px 1px 2px rgba(60, 64, 67, 0.3), 0px 1px 3px 1px rgba(60, 64, 67, 0.15);\n",
              "      fill: #174EA6;\n",
              "    }\n",
              "\n",
              "    .colab-df-buttons div {\n",
              "      margin-bottom: 4px;\n",
              "    }\n",
              "\n",
              "    [theme=dark] .colab-df-convert {\n",
              "      background-color: #3B4455;\n",
              "      fill: #D2E3FC;\n",
              "    }\n",
              "\n",
              "    [theme=dark] .colab-df-convert:hover {\n",
              "      background-color: #434B5C;\n",
              "      box-shadow: 0px 1px 3px 1px rgba(0, 0, 0, 0.15);\n",
              "      filter: drop-shadow(0px 1px 2px rgba(0, 0, 0, 0.3));\n",
              "      fill: #FFFFFF;\n",
              "    }\n",
              "  </style>\n",
              "\n",
              "    <script>\n",
              "      const buttonEl =\n",
              "        document.querySelector('#df-e9f09e62-631f-4c85-bddf-b079f8b006f6 button.colab-df-convert');\n",
              "      buttonEl.style.display =\n",
              "        google.colab.kernel.accessAllowed ? 'block' : 'none';\n",
              "\n",
              "      async function convertToInteractive(key) {\n",
              "        const element = document.querySelector('#df-e9f09e62-631f-4c85-bddf-b079f8b006f6');\n",
              "        const dataTable =\n",
              "          await google.colab.kernel.invokeFunction('convertToInteractive',\n",
              "                                                    [key], {});\n",
              "        if (!dataTable) return;\n",
              "\n",
              "        const docLinkHtml = 'Like what you see? Visit the ' +\n",
              "          '<a target=\"_blank\" href=https://colab.research.google.com/notebooks/data_table.ipynb>data table notebook</a>'\n",
              "          + ' to learn more about interactive tables.';\n",
              "        element.innerHTML = '';\n",
              "        dataTable['output_type'] = 'display_data';\n",
              "        await google.colab.output.renderOutput(dataTable, element);\n",
              "        const docLink = document.createElement('div');\n",
              "        docLink.innerHTML = docLinkHtml;\n",
              "        element.appendChild(docLink);\n",
              "      }\n",
              "    </script>\n",
              "  </div>\n",
              "\n",
              "\n",
              "    </div>\n",
              "  </div>\n"
            ],
            "application/vnd.google.colaboratory.intrinsic+json": {
              "type": "dataframe",
              "repr_error": "'str' object has no attribute 'empty'"
            }
          },
          "metadata": {},
          "execution_count": 16
        }
      ]
    },
    {
      "cell_type": "code",
      "source": [
        "#request example\n",
        "import requests\n",
        "\n",
        "def scrape_example_page():\n",
        "    response = requests.get(\"https://www.python.org/\")\n",
        "    print(response.text)"
      ],
      "metadata": {
        "id": "Kw6qJD--LbGW"
      },
      "execution_count": null,
      "outputs": []
    },
    {
      "cell_type": "code",
      "source": [
        "#selenium example\n",
        "from selenium import webdriver\n",
        "\n",
        "def scrape_example_page():\n",
        "    driver = webdriver.Firefox()\n",
        "    driver.get(\"https://example.com/\")\n",
        "    titles = driver.find_elements_by_css_selector(\"h3\")\n",
        "    for title in titles:\n",
        "        print(title.text)\n",
        "    driver.quit()"
      ],
      "metadata": {
        "id": "r5pIx9NOLhMf"
      },
      "execution_count": null,
      "outputs": []
    },
    {
      "cell_type": "code",
      "source": [
        "#lxml example\n",
        "from lxml import etree\n",
        "import requests\n",
        "\n",
        "def scrape_example_page():\n",
        "    response = requests.get(\"https://example.com/\")\n",
        "    tree = etree.HTML(response.content)\n",
        "    titles = tree.xpath(\"//h3/text()\")\n",
        "    for title in titles:\n",
        "        print(title)"
      ],
      "metadata": {
        "id": "mBtQd1E7LnWZ"
      },
      "execution_count": null,
      "outputs": []
    },
    {
      "cell_type": "code",
      "source": [
        "#selenium for login credential\n",
        "from selenium import webdriver\n",
        "from selenium.webdriver.common.keys import Keys\n",
        "\n",
        "# Set up the webdriver\n",
        "driver = webdriver.Chrome()\n",
        "\n",
        "# Navigate to the login page\n",
        "driver.get(\"https://example.com/login\")\n",
        "\n",
        "# Find the username and password fields and enter your login credentials\n",
        "username_field = driver.find_element_by_name(\"username\")\n",
        "username_field.send_keys(\"your_username\")\n",
        "password_field = driver.find_element_by_name(\"password\")\n",
        "password_field.send_keys(\"your_password\")\n",
        "password_field.send_keys(Keys.RETURN)\n",
        "\n",
        "# Wait for the page to load after login\n",
        "driver.implicitly_wait(10)\n",
        "\n",
        "# Fetch the title of the page after login\n",
        "title = driver.title\n",
        "print(title)\n",
        "\n",
        "# Close the webdriver\n",
        "driver.quit()"
      ],
      "metadata": {
        "id": "tIF7xZECtbRL"
      },
      "execution_count": null,
      "outputs": []
    }
  ]
}